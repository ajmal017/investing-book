{
  "nbformat": 4,
  "nbformat_minor": 0,
  "metadata": {
    "colab": {
      "name": "CorrelationExamples.ipynb",
      "provenance": [],
      "collapsed_sections": [],
      "authorship_tag": "ABX9TyO3U5PudLCIJCLHAw0xMEck",
      "include_colab_link": true
    },
    "kernelspec": {
      "name": "python3",
      "display_name": "Python 3"
    }
  },
  "cells": [
    {
      "cell_type": "markdown",
      "metadata": {
        "id": "view-in-github",
        "colab_type": "text"
      },
      "source": [
        "<a href=\"https://colab.research.google.com/github/dli-invest/iref-book/blob/master/notebooks%5Creferences%5CCorrelationExamples.ipynb\" target=\"_parent\"><img src=\"https://colab.research.google.com/assets/colab-badge.svg\" alt=\"Open In Colab\"/></a>"
      ]
    },
    {
      "cell_type": "code",
      "metadata": {
        "id": "8aKf8PWLToE5",
        "colab_type": "code",
        "colab": {
          "base_uri": "https://localhost:8080/",
          "height": 357
        },
        "outputId": "a9519e37-c849-40df-f04d-d0ac61d0977d"
      },
      "source": [
        "import pandas as pd\n",
        "import yfinance as yf\n",
        "from mlfinlab.codependence import distance_correlation, angular_distance, absolute_angular_distance, squared_angular_distance\n",
        "\n",
        "def get_prices(stocks, start_date=\"2020-03-01\", end_date=\"2020-05-30\"):\n",
        "    stocks_string = \" \".join(stocks)\n",
        "    data = yf.download(stocks_string, start=start_date, end=end_date,\n",
        "                      group_by=\"ticker\")\n",
        "    data = data.fillna(method='ffill')\n",
        "    # Drop columns with no entries\n",
        "    data = data.dropna(axis='columns', how='all')\n",
        "\n",
        "    prices_df = pd.concat([data[ticker][\"Close\"] for ticker in stocks], axis=1)\n",
        "    prices_df.columns = stocks\n",
        "    return prices_df\n",
        "  \n",
        "asset_returns = get_prices(['IP.CN', 'NTAR.CN'])\n",
        "print(asset_returns)\n",
        "# Calculate distance correlation between chosen assets\n",
        "distance_corr = distance_correlation(asset_returns['IP.CN'], asset_returns['NTAR.CN'])\n",
        "print(distance_corr)\n",
        "# Calculate angular distance between chosen assets\n",
        "angular_dist = angular_distance(asset_returns['IP.CN'], asset_returns['NTAR.CN'])\n",
        "print(angular_dist)\n",
        "# Calculate absolute angular distance between chosen assets\n",
        "angular_dist = absolute_angular_distance(asset_returns['IP.CN'], asset_returns['NTAR.CN'])\n",
        "print(angular_dist)\n",
        "# Calculate squared angular distance between chosen assets\n",
        "angular_dist = squared_angular_distance(asset_returns['IP.CN'], asset_returns['NTAR.CN'])\n",
        "print(angular_dist)"
      ],
      "execution_count": 9,
      "outputs": [
        {
          "output_type": "stream",
          "text": [
            "[*********************100%***********************]  2 of 2 completed\n",
            "            IP.CN  NTAR.CN\n",
            "Date                      \n",
            "2020-03-02  0.055     1.62\n",
            "2020-03-03  0.050     1.59\n",
            "2020-03-04  0.040     1.57\n",
            "2020-03-05  0.045     1.48\n",
            "2020-03-06  0.040     1.32\n",
            "...           ...      ...\n",
            "2020-05-25  0.065     2.07\n",
            "2020-05-26  0.065     2.20\n",
            "2020-05-27  0.060     2.18\n",
            "2020-05-28  0.065     2.07\n",
            "2020-05-29  0.065     2.11\n",
            "\n",
            "[63 rows x 2 columns]\n",
            "0.8200543899391678\n",
            "0.2742084582009295\n",
            "0.2742084582009295\n",
            "0.3729254632246639\n"
          ],
          "name": "stdout"
        }
      ]
    },
    {
      "cell_type": "code",
      "metadata": {
        "id": "LlhxcSZGYxE2",
        "colab_type": "code",
        "colab": {
          "base_uri": "https://localhost:8080/",
          "height": 1000
        },
        "outputId": "7f9f5105-5937-4213-da53-4344b90c5ee6"
      },
      "source": [
        "!pip3 install mlfinlab yfinance"
      ],
      "execution_count": 2,
      "outputs": [
        {
          "output_type": "stream",
          "text": [
            "Collecting mlfinlab\n",
            "\u001b[?25l  Downloading https://files.pythonhosted.org/packages/48/76/00bf9715ca24b772ea0f3233403719390a8cf49e7564adae4713d68a025a/mlfinlab-0.12.3-py3-none-any.whl (851kB)\n",
            "\r\u001b[K     |▍                               | 10kB 16.7MB/s eta 0:00:01\r\u001b[K     |▊                               | 20kB 1.7MB/s eta 0:00:01\r\u001b[K     |█▏                              | 30kB 2.2MB/s eta 0:00:01\r\u001b[K     |█▌                              | 40kB 2.5MB/s eta 0:00:01\r\u001b[K     |██                              | 51kB 2.0MB/s eta 0:00:01\r\u001b[K     |██▎                             | 61kB 2.2MB/s eta 0:00:01\r\u001b[K     |██▊                             | 71kB 2.5MB/s eta 0:00:01\r\u001b[K     |███                             | 81kB 2.7MB/s eta 0:00:01\r\u001b[K     |███▌                            | 92kB 2.9MB/s eta 0:00:01\r\u001b[K     |███▉                            | 102kB 2.8MB/s eta 0:00:01\r\u001b[K     |████▎                           | 112kB 2.8MB/s eta 0:00:01\r\u001b[K     |████▋                           | 122kB 2.8MB/s eta 0:00:01\r\u001b[K     |█████                           | 133kB 2.8MB/s eta 0:00:01\r\u001b[K     |█████▍                          | 143kB 2.8MB/s eta 0:00:01\r\u001b[K     |█████▊                          | 153kB 2.8MB/s eta 0:00:01\r\u001b[K     |██████▏                         | 163kB 2.8MB/s eta 0:00:01\r\u001b[K     |██████▌                         | 174kB 2.8MB/s eta 0:00:01\r\u001b[K     |███████                         | 184kB 2.8MB/s eta 0:00:01\r\u001b[K     |███████▎                        | 194kB 2.8MB/s eta 0:00:01\r\u001b[K     |███████▊                        | 204kB 2.8MB/s eta 0:00:01\r\u001b[K     |████████                        | 215kB 2.8MB/s eta 0:00:01\r\u001b[K     |████████▌                       | 225kB 2.8MB/s eta 0:00:01\r\u001b[K     |████████▉                       | 235kB 2.8MB/s eta 0:00:01\r\u001b[K     |█████████▎                      | 245kB 2.8MB/s eta 0:00:01\r\u001b[K     |█████████▋                      | 256kB 2.8MB/s eta 0:00:01\r\u001b[K     |██████████                      | 266kB 2.8MB/s eta 0:00:01\r\u001b[K     |██████████▍                     | 276kB 2.8MB/s eta 0:00:01\r\u001b[K     |██████████▊                     | 286kB 2.8MB/s eta 0:00:01\r\u001b[K     |███████████▏                    | 296kB 2.8MB/s eta 0:00:01\r\u001b[K     |███████████▌                    | 307kB 2.8MB/s eta 0:00:01\r\u001b[K     |████████████                    | 317kB 2.8MB/s eta 0:00:01\r\u001b[K     |████████████▎                   | 327kB 2.8MB/s eta 0:00:01\r\u001b[K     |████████████▊                   | 337kB 2.8MB/s eta 0:00:01\r\u001b[K     |█████████████                   | 348kB 2.8MB/s eta 0:00:01\r\u001b[K     |█████████████▌                  | 358kB 2.8MB/s eta 0:00:01\r\u001b[K     |█████████████▉                  | 368kB 2.8MB/s eta 0:00:01\r\u001b[K     |██████████████▎                 | 378kB 2.8MB/s eta 0:00:01\r\u001b[K     |██████████████▋                 | 389kB 2.8MB/s eta 0:00:01\r\u001b[K     |███████████████                 | 399kB 2.8MB/s eta 0:00:01\r\u001b[K     |███████████████▍                | 409kB 2.8MB/s eta 0:00:01\r\u001b[K     |███████████████▊                | 419kB 2.8MB/s eta 0:00:01\r\u001b[K     |████████████████▏               | 430kB 2.8MB/s eta 0:00:01\r\u001b[K     |████████████████▌               | 440kB 2.8MB/s eta 0:00:01\r\u001b[K     |█████████████████               | 450kB 2.8MB/s eta 0:00:01\r\u001b[K     |█████████████████▎              | 460kB 2.8MB/s eta 0:00:01\r\u001b[K     |█████████████████▊              | 471kB 2.8MB/s eta 0:00:01\r\u001b[K     |██████████████████              | 481kB 2.8MB/s eta 0:00:01\r\u001b[K     |██████████████████▌             | 491kB 2.8MB/s eta 0:00:01\r\u001b[K     |██████████████████▉             | 501kB 2.8MB/s eta 0:00:01\r\u001b[K     |███████████████████▎            | 512kB 2.8MB/s eta 0:00:01\r\u001b[K     |███████████████████▋            | 522kB 2.8MB/s eta 0:00:01\r\u001b[K     |████████████████████            | 532kB 2.8MB/s eta 0:00:01\r\u001b[K     |████████████████████▍           | 542kB 2.8MB/s eta 0:00:01\r\u001b[K     |████████████████████▊           | 552kB 2.8MB/s eta 0:00:01\r\u001b[K     |█████████████████████▏          | 563kB 2.8MB/s eta 0:00:01\r\u001b[K     |█████████████████████▌          | 573kB 2.8MB/s eta 0:00:01\r\u001b[K     |██████████████████████          | 583kB 2.8MB/s eta 0:00:01\r\u001b[K     |██████████████████████▎         | 593kB 2.8MB/s eta 0:00:01\r\u001b[K     |██████████████████████▊         | 604kB 2.8MB/s eta 0:00:01\r\u001b[K     |███████████████████████         | 614kB 2.8MB/s eta 0:00:01\r\u001b[K     |███████████████████████▌        | 624kB 2.8MB/s eta 0:00:01\r\u001b[K     |███████████████████████▉        | 634kB 2.8MB/s eta 0:00:01\r\u001b[K     |████████████████████████▎       | 645kB 2.8MB/s eta 0:00:01\r\u001b[K     |████████████████████████▋       | 655kB 2.8MB/s eta 0:00:01\r\u001b[K     |█████████████████████████       | 665kB 2.8MB/s eta 0:00:01\r\u001b[K     |█████████████████████████▍      | 675kB 2.8MB/s eta 0:00:01\r\u001b[K     |█████████████████████████▊      | 686kB 2.8MB/s eta 0:00:01\r\u001b[K     |██████████████████████████▏     | 696kB 2.8MB/s eta 0:00:01\r\u001b[K     |██████████████████████████▌     | 706kB 2.8MB/s eta 0:00:01\r\u001b[K     |███████████████████████████     | 716kB 2.8MB/s eta 0:00:01\r\u001b[K     |███████████████████████████▎    | 727kB 2.8MB/s eta 0:00:01\r\u001b[K     |███████████████████████████▊    | 737kB 2.8MB/s eta 0:00:01\r\u001b[K     |████████████████████████████    | 747kB 2.8MB/s eta 0:00:01\r\u001b[K     |████████████████████████████▌   | 757kB 2.8MB/s eta 0:00:01\r\u001b[K     |████████████████████████████▉   | 768kB 2.8MB/s eta 0:00:01\r\u001b[K     |█████████████████████████████▎  | 778kB 2.8MB/s eta 0:00:01\r\u001b[K     |█████████████████████████████▋  | 788kB 2.8MB/s eta 0:00:01\r\u001b[K     |██████████████████████████████  | 798kB 2.8MB/s eta 0:00:01\r\u001b[K     |██████████████████████████████▍ | 808kB 2.8MB/s eta 0:00:01\r\u001b[K     |██████████████████████████████▊ | 819kB 2.8MB/s eta 0:00:01\r\u001b[K     |███████████████████████████████▏| 829kB 2.8MB/s eta 0:00:01\r\u001b[K     |███████████████████████████████▌| 839kB 2.8MB/s eta 0:00:01\r\u001b[K     |████████████████████████████████| 849kB 2.8MB/s eta 0:00:01\r\u001b[K     |████████████████████████████████| 860kB 2.8MB/s \n",
            "\u001b[?25hCollecting yfinance\n",
            "  Downloading https://files.pythonhosted.org/packages/c2/31/8b374a12b90def92a4e27d0fc595fc43635f395984e36a075244d98bd265/yfinance-0.1.54.tar.gz\n",
            "Requirement already satisfied: numpy==1.18.5 in /usr/local/lib/python3.6/dist-packages (from mlfinlab) (1.18.5)\n",
            "Collecting matplotlib==3.2.1\n",
            "\u001b[?25l  Downloading https://files.pythonhosted.org/packages/93/4b/52da6b1523d5139d04e02d9e26ceda6146b48f2a4e5d2abfdf1c7bac8c40/matplotlib-3.2.1-cp36-cp36m-manylinux1_x86_64.whl (12.4MB)\n",
            "\u001b[K     |████████████████████████████████| 12.4MB 309kB/s \n",
            "\u001b[?25hCollecting pandas==1.0.4\n",
            "\u001b[?25l  Downloading https://files.pythonhosted.org/packages/8e/86/c14387d6813ebadb7bf61b9ad270ffff111c8b587e4d266e07de774e385e/pandas-1.0.4-cp36-cp36m-manylinux1_x86_64.whl (10.1MB)\n",
            "\u001b[K     |████████████████████████████████| 10.1MB 47.7MB/s \n",
            "\u001b[?25hRequirement already satisfied: scipy==1.4.1 in /usr/local/lib/python3.6/dist-packages (from mlfinlab) (1.4.1)\n",
            "Collecting statsmodels==0.11.1\n",
            "\u001b[?25l  Downloading https://files.pythonhosted.org/packages/cb/83/540fd83238a18abe6c2d280fa8e489ac5fcefa1f370f0ca1acd16ae1b860/statsmodels-0.11.1-cp36-cp36m-manylinux1_x86_64.whl (8.7MB)\n",
            "\u001b[K     |████████████████████████████████| 8.7MB 42.7MB/s \n",
            "\u001b[?25hCollecting cvxpy==1.1.1\n",
            "\u001b[?25l  Downloading https://files.pythonhosted.org/packages/fa/89/6e4f99b36ce2d002f2792529b130fd8ed5d7004c92ce8ae7d56496f51426/cvxpy-1.1.1.tar.gz (990kB)\n",
            "\u001b[K     |████████████████████████████████| 993kB 42.0MB/s \n",
            "\u001b[?25h  Installing build dependencies ... \u001b[?25l\u001b[?25hdone\n",
            "  Getting requirements to build wheel ... \u001b[?25l\u001b[?25hdone\n",
            "    Preparing wheel metadata ... \u001b[?25l\u001b[?25hdone\n",
            "Collecting scikit-learn==0.23.1\n",
            "\u001b[?25l  Downloading https://files.pythonhosted.org/packages/d9/3a/eb8d7bbe28f4787d140bb9df685b7d5bf6115c0e2a969def4027144e98b6/scikit_learn-0.23.1-cp36-cp36m-manylinux1_x86_64.whl (6.8MB)\n",
            "\u001b[K     |████████████████████████████████| 6.9MB 32.7MB/s \n",
            "\u001b[?25hCollecting numba==0.49.1\n",
            "\u001b[?25l  Downloading https://files.pythonhosted.org/packages/56/dc/0e3d3732fd62c73fbb3317fc7bba22574832ab7a8e075620557bd4311641/numba-0.49.1-cp36-cp36m-manylinux2014_x86_64.whl (3.6MB)\n",
            "\u001b[K     |████████████████████████████████| 3.6MB 33.9MB/s \n",
            "\u001b[?25hRequirement already satisfied: requests>=2.20 in /usr/local/lib/python3.6/dist-packages (from yfinance) (2.23.0)\n",
            "Requirement already satisfied: multitasking>=0.0.7 in /usr/local/lib/python3.6/dist-packages (from yfinance) (0.0.9)\n",
            "Requirement already satisfied: python-dateutil>=2.1 in /usr/local/lib/python3.6/dist-packages (from matplotlib==3.2.1->mlfinlab) (2.8.1)\n",
            "Requirement already satisfied: pyparsing!=2.0.4,!=2.1.2,!=2.1.6,>=2.0.1 in /usr/local/lib/python3.6/dist-packages (from matplotlib==3.2.1->mlfinlab) (2.4.7)\n",
            "Requirement already satisfied: kiwisolver>=1.0.1 in /usr/local/lib/python3.6/dist-packages (from matplotlib==3.2.1->mlfinlab) (1.2.0)\n",
            "Requirement already satisfied: cycler>=0.10 in /usr/local/lib/python3.6/dist-packages (from matplotlib==3.2.1->mlfinlab) (0.10.0)\n",
            "Requirement already satisfied: pytz>=2017.2 in /usr/local/lib/python3.6/dist-packages (from pandas==1.0.4->mlfinlab) (2018.9)\n",
            "Requirement already satisfied: patsy>=0.5 in /usr/local/lib/python3.6/dist-packages (from statsmodels==0.11.1->mlfinlab) (0.5.1)\n",
            "Requirement already satisfied: osqp>=0.4.1 in /usr/local/lib/python3.6/dist-packages (from cvxpy==1.1.1->mlfinlab) (0.6.1)\n",
            "Requirement already satisfied: ecos>=2 in /usr/local/lib/python3.6/dist-packages (from cvxpy==1.1.1->mlfinlab) (2.0.7.post1)\n",
            "Requirement already satisfied: scs>=1.1.3 in /usr/local/lib/python3.6/dist-packages (from cvxpy==1.1.1->mlfinlab) (2.1.2)\n",
            "Requirement already satisfied: joblib>=0.11 in /usr/local/lib/python3.6/dist-packages (from scikit-learn==0.23.1->mlfinlab) (0.16.0)\n",
            "Collecting threadpoolctl>=2.0.0\n",
            "  Downloading https://files.pythonhosted.org/packages/f7/12/ec3f2e203afa394a149911729357aa48affc59c20e2c1c8297a60f33f133/threadpoolctl-2.1.0-py3-none-any.whl\n",
            "Requirement already satisfied: setuptools in /usr/local/lib/python3.6/dist-packages (from numba==0.49.1->mlfinlab) (49.2.0)\n",
            "Requirement already satisfied: llvmlite<=0.33.0.dev0,>=0.31.0.dev0 in /usr/local/lib/python3.6/dist-packages (from numba==0.49.1->mlfinlab) (0.31.0)\n",
            "Requirement already satisfied: chardet<4,>=3.0.2 in /usr/local/lib/python3.6/dist-packages (from requests>=2.20->yfinance) (3.0.4)\n",
            "Requirement already satisfied: certifi>=2017.4.17 in /usr/local/lib/python3.6/dist-packages (from requests>=2.20->yfinance) (2020.6.20)\n",
            "Requirement already satisfied: idna<3,>=2.5 in /usr/local/lib/python3.6/dist-packages (from requests>=2.20->yfinance) (2.10)\n",
            "Requirement already satisfied: urllib3!=1.25.0,!=1.25.1,<1.26,>=1.21.1 in /usr/local/lib/python3.6/dist-packages (from requests>=2.20->yfinance) (1.24.3)\n",
            "Requirement already satisfied: six>=1.5 in /usr/local/lib/python3.6/dist-packages (from python-dateutil>=2.1->matplotlib==3.2.1->mlfinlab) (1.15.0)\n",
            "Requirement already satisfied: future in /usr/local/lib/python3.6/dist-packages (from osqp>=0.4.1->cvxpy==1.1.1->mlfinlab) (0.16.0)\n",
            "Building wheels for collected packages: cvxpy\n",
            "  Building wheel for cvxpy (PEP 517) ... \u001b[?25l\u001b[?25hdone\n",
            "  Created wheel for cvxpy: filename=cvxpy-1.1.1-cp36-cp36m-linux_x86_64.whl size=2654188 sha256=a26a6bc4f5d1fd6c94fb0f8e6d7dc682cb1a0b40165cb1ce6e92e89c9d4f1d9c\n",
            "  Stored in directory: /root/.cache/pip/wheels/06/db/59/b5af93d86703e0903b9b94ccc300ac70daf9d273f13e6c0350\n",
            "Successfully built cvxpy\n",
            "Building wheels for collected packages: yfinance\n",
            "  Building wheel for yfinance (setup.py) ... \u001b[?25l\u001b[?25hdone\n",
            "  Created wheel for yfinance: filename=yfinance-0.1.54-py2.py3-none-any.whl size=22409 sha256=c03517340ca865ab65213b423dde5625b362067eb62c54f5dcca90c92c2dbeae\n",
            "  Stored in directory: /root/.cache/pip/wheels/f9/e3/5b/ec24dd2984b12d61e0abf26289746c2436a0e7844f26f2515c\n",
            "Successfully built yfinance\n",
            "\u001b[31mERROR: albumentations 0.1.12 has requirement imgaug<0.2.7,>=0.2.5, but you'll have imgaug 0.2.9 which is incompatible.\u001b[0m\n",
            "Installing collected packages: matplotlib, pandas, statsmodels, cvxpy, threadpoolctl, scikit-learn, numba, mlfinlab, yfinance\n",
            "  Found existing installation: matplotlib 3.2.2\n",
            "    Uninstalling matplotlib-3.2.2:\n",
            "      Successfully uninstalled matplotlib-3.2.2\n",
            "  Found existing installation: pandas 1.0.5\n",
            "    Uninstalling pandas-1.0.5:\n",
            "      Successfully uninstalled pandas-1.0.5\n",
            "  Found existing installation: statsmodels 0.10.2\n",
            "    Uninstalling statsmodels-0.10.2:\n",
            "      Successfully uninstalled statsmodels-0.10.2\n",
            "  Found existing installation: cvxpy 1.0.31\n",
            "    Uninstalling cvxpy-1.0.31:\n",
            "      Successfully uninstalled cvxpy-1.0.31\n",
            "  Found existing installation: scikit-learn 0.22.2.post1\n",
            "    Uninstalling scikit-learn-0.22.2.post1:\n",
            "      Successfully uninstalled scikit-learn-0.22.2.post1\n",
            "  Found existing installation: numba 0.48.0\n",
            "    Uninstalling numba-0.48.0:\n",
            "      Successfully uninstalled numba-0.48.0\n",
            "Successfully installed cvxpy-1.1.1 matplotlib-3.2.1 mlfinlab-0.12.3 numba-0.49.1 pandas-1.0.4 scikit-learn-0.23.1 statsmodels-0.11.1 threadpoolctl-2.1.0 yfinance-0.1.54\n"
          ],
          "name": "stdout"
        },
        {
          "output_type": "display_data",
          "data": {
            "application/vnd.colab-display-data+json": {
              "pip_warning": {
                "packages": [
                  "matplotlib",
                  "mpl_toolkits",
                  "pandas"
                ]
              }
            }
          },
          "metadata": {
            "tags": []
          }
        }
      ]
    }
  ]
}