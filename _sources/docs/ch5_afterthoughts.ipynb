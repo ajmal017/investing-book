{
 "cells": [
  {
   "cell_type": "markdown",
   "metadata": {},
   "source": [
    "(Afterthoughts)=\n",
    "# Afterthoughts\n",
    "\n",
    "One of my early purchase as an investor has been victory square.\n",
    "\n",
    "### Decision Making Framework\n",
    "1. Never buy a stock expecting to make money\n",
    "2. Does the stock have momentum\n",
    "3. Is this a good time to buy this stock and why (good news not realised, or no interest)\n",
    "4. Do I expect the stock to go up\n",
    "5. Is this stock industry going to be useful and do well\n",
    "6. Does the stock have good management.\n",
    "\n",
    "\n",
    "\n",
    "\n",
    "```{toctree}\n",
    ":hidden:\n",
    ":titlesonly:\n",
    "\n",
    "\n",
    "2020 Thoughts <afterthoughts/2020_thoughts.md>\n",
    "```"
   ]
  }
 ],
 "metadata": {
  "jupytext": {
   "text_representation": {
    "extension": ".md",
    "format_name": "myst"
   }
  },
  "kernelspec": {
   "display_name": "Python 3",
   "language": "python",
   "name": "python3"
  },
  "language_info": {
   "codemirror_mode": {
    "name": "ipython",
    "version": 3
   },
   "file_extension": ".py",
   "mimetype": "text/x-python",
   "name": "python",
   "nbconvert_exporter": "python",
   "pygments_lexer": "ipython3",
   "version": "3.7.9"
  },
  "source_map": [
   10
  ]
 },
 "nbformat": 4,
 "nbformat_minor": 4
}