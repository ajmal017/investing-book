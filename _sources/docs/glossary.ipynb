{
 "cells": [
  {
   "cell_type": "markdown",
   "metadata": {},
   "source": [
    "(glossary)=\n",
    "\n",
    "# Glossary\n",
    "\n",
    "```{glossary}\n",
    "api\n",
    "        An Application Programming Interface (API) is a particular set           of rules and specifications that a software program can follow to access and make use of the services and resources provided by another particular software program that implements that API,   firstApplication Programming Interface (API),   longApplication Programming Interface\n",
    "\n",
    "staticlib\n",
    "         libraries that are linked at compile time\n",
    "\n",
    "dynamiclib\n",
    "         libraries that are linked at run time\n",
    "\n",
    "depInj\n",
    "        Dependency injection means that, rather than being instantiated (\"newed up\") within a class, each class's dependencies will be injected in from the outside.\n",
    "\n",
    "IoC\n",
    "        In software engineering, inversion of control (IoC) is a programming principle. IoC inverts the flow control as compared to traditional control flow. In IoC, custom-written portions of a computer program receive the flow of control from a generic framework. A software architecture with this design inverts control as compared to traditional procedural programming: in traditional programming, the custom code that expresses the purpose of the program calls into reusable libraries to take care of generic tasks, but with inversion of control, it is the framework that calls into the custom, or task-specific, code.,firstInversion of Control,longInversion of Control     \n",
    "\n",
    "GAN\n",
    "        A GAN is a deep neural network architecture made up of two networks, a generator network \n",
    "and a discriminator network. Through multiple cycles of generation and discrimination, both networks train each other, while simultaneously trying to outwit each other.,firstGenerative Adversarial Networks,longGenerative Adversarial Networks\n",
    "\n",
    "git\n",
    "         the most popular version control system used for tracking changes in source code and coordinating work on those files among multiple people\n",
    "\n",
    "Adapter\n",
    "          The adapter pattern provides a wrapper with an interfacerequired by the \\glsapi client \n",
    "to link incompatible types and act as atranslator between the two types. The adapter uses the interfaceof a class to be a class with another compatible interface. Whenrequirements change, there \n",
    "are scenarios where classfunctionality needs to be changed because of incompatibleinterfaces.    \n",
    "\n",
    "Bridge\n",
    "        Bridge decouples the implementation from the abstraction. Theabstract base class can be subclassed to provide differentimplementations and allow implementation details to bemodified easily.\n",
    "\n",
    "DebtToEquity\n",
    "        The debt-to-equity (D/E) ratio indicates how much debt a company is using to finance its \n",
    "assets relative to the value of shareholders' equity.\n",
    "\n",
    "DeadCatBounce\n",
    "        Dead cat bounce is a small, brief recovery in the price of a declining stock.\n",
    "\n",
    "\n",
    "```"
   ]
  }
 ],
 "metadata": {
  "jupytext": {
   "text_representation": {
    "extension": ".md",
    "format_name": "myst"
   }
  },
  "kernelspec": {
   "display_name": "Python 3",
   "language": "python",
   "name": "python3"
  },
  "language_info": {
   "codemirror_mode": {
    "name": "ipython",
    "version": 3
   },
   "file_extension": ".py",
   "mimetype": "text/x-python",
   "name": "python",
   "nbconvert_exporter": "python",
   "pygments_lexer": "ipython3",
   "version": "3.7.9"
  },
  "source_map": [
   10
  ]
 },
 "nbformat": 4,
 "nbformat_minor": 4
}