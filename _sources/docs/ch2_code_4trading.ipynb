{
 "cells": [
  {
   "cell_type": "markdown",
   "metadata": {},
   "source": [
    "(pd_functions)=\n",
    "# Code For Trading\n",
    "\n",
    "Pandas is an excellent library for analyzing and dealing with data.\n",
    "\n",
    "In order to calculate profits and how much money to I put into the market, I use a formula after downloading my data from RBC direct investing."
   ]
  },
  {
   "cell_type": "code",
   "execution_count": 1,
   "metadata": {},
   "outputs": [
    {
     "name": "stdout",
     "output_type": "stream",
     "text": [
      "<table border=\"1\" class=\"dataframe\">\n",
      "  <thead>\n",
      "    <tr style=\"text-align: right;\">\n",
      "      <th></th>\n",
      "      <th>Activity</th>\n",
      "      <th>Symbol</th>\n",
      "      <th>Value</th>\n",
      "    </tr>\n",
      "  </thead>\n",
      "  <tbody>\n",
      "    <tr>\n",
      "      <th>0</th>\n",
      "      <td>Buy</td>\n",
      "      <td>BB</td>\n",
      "      <td>-100.95</td>\n",
      "    </tr>\n",
      "    <tr>\n",
      "      <th>1</th>\n",
      "      <td>Buy</td>\n",
      "      <td>RBF556</td>\n",
      "      <td>-2328.24</td>\n",
      "    </tr>\n",
      "    <tr>\n",
      "      <th>2</th>\n",
      "      <td>Deposits &amp; Contributions</td>\n",
      "      <td></td>\n",
      "      <td>1000.00</td>\n",
      "    </tr>\n",
      "    <tr>\n",
      "      <th>3</th>\n",
      "      <td>Withdrawals &amp; De-registrations</td>\n",
      "      <td>RBF558</td>\n",
      "      <td>-14000.00</td>\n",
      "    </tr>\n",
      "    <tr>\n",
      "      <th>4</th>\n",
      "      <td>Deposits &amp; Contributions</td>\n",
      "      <td></td>\n",
      "      <td>15000.00</td>\n",
      "    </tr>\n",
      "  </tbody>\n",
      "</table>\n",
      "2000.0\n"
     ]
    }
   ],
   "source": [
    "import pandas as pd\n",
    "data = {\n",
    "    \"Activity\": {\n",
    "        0: \"Buy\",\n",
    "        1: \"Buy\",\n",
    "        2: \"Deposits & Contributions\",\n",
    "        3: \"Withdrawals & De-registrations\",\n",
    "        4: \"Deposits & Contributions\",\n",
    "    },\n",
    "    \"Symbol\": {0: \"BB\", 1: \"RBF556\", 2: \"\", 3: \"RBF558\", 4: \"\"},\n",
    "    \"Value\": {0: -100.95, 1: -2328.24, 2: 1000.0, 3: -14000.0, 4: 15000.0},\n",
    "}\n",
    "df = pd.DataFrame.from_dict(data)\n",
    "\n",
    "print(df.to_html())\n",
    "\n",
    "deposit_df = df[df.Activity == \"Deposits & Contributions\"]\n",
    "divid_df = df[df.Activity == \"Dividends\"]\n",
    "with_df = df[df.Activity == \"Withdrawals & De-registrations\"]\n",
    "total = deposit_df['Value'].sum() + with_df['Value'].sum()\n",
    "print(total)"
   ]
  },
  {
   "cell_type": "markdown",
   "metadata": {},
   "source": [
    "```{toctree}\n",
    ":hidden:\n",
    ":titlesonly:\n",
    "\n",
    "\n",
    "Performance analyze as of 06/01/2020 <../notebooks/analyze/Performance_06-01-2020>\n",
    "Risk Analyze 06/05/2020 <../notebooks/analyze/RISK_06-05-2020>\n",
    "```"
   ]
  }
 ],
 "metadata": {
  "jupytext": {
   "text_representation": {
    "extension": ".md",
    "format_name": "myst"
   }
  },
  "kernelspec": {
   "display_name": "Python 3",
   "language": "python",
   "name": "python3"
  },
  "language_info": {
   "codemirror_mode": {
    "name": "ipython",
    "version": 3
   },
   "file_extension": ".py",
   "mimetype": "text/x-python",
   "name": "python",
   "nbconvert_exporter": "python",
   "pygments_lexer": "ipython3",
   "version": "3.7.9"
  },
  "source_map": [
   10,
   19,
   41
  ]
 },
 "nbformat": 4,
 "nbformat_minor": 4
}