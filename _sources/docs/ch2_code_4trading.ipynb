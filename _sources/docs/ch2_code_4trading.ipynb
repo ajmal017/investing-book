{
 "cells": [
  {
   "cell_type": "markdown",
   "metadata": {},
   "source": [
    "(pd_functions)=\n",
    "# Code For Trading\n",
    "\n",
    "Pandas is an excellent library for analyzing and dealing with data.\n",
    "\n",
    "In order to calculate profits and how much money to I put into the market, I use a formula after downloading my data from RBC direct investing."
   ]
  },
  {
   "cell_type": "code",
   "execution_count": 1,
   "metadata": {},
   "outputs": [
    {
     "name": "stdout",
     "output_type": "stream",
     "text": [
      "2000.0\n"
     ]
    }
   ],
   "source": [
    "import pandas as pd\n",
    "data = {\n",
    "    \"Activity\": {\n",
    "        0: \"Buy\",\n",
    "        1: \"Buy\",\n",
    "        2: \"Deposits & Contributions\",\n",
    "        3: \"Withdrawals & De-registrations\",\n",
    "        4: \"Deposits & Contributions\",\n",
    "    },\n",
    "    \"Symbol\": {0: \"BB\", 1: \"RBF556\", 2: \"\", 3: \"RBF558\", 4: \"\"},\n",
    "    \"Value\": {0: -100.95, 1: -2328.24, 2: 1000.0, 3: -14000.0, 4: 15000.0},\n",
    "}\n",
    "df = pd.DataFrame.from_dict(data)\n",
    "\n",
    "df.head()\n",
    "\n",
    "deposit_df = df[df.Activity == \"Deposits & Contributions\"]\n",
    "divid_df = df[df.Activity == \"Dividends\"]\n",
    "with_df = df[df.Activity == \"Withdrawals & De-registrations\"]\n",
    "total = deposit_df['Value'].sum() + with_df['Value'].sum()\n",
    "print(total)"
   ]
  },
  {
   "cell_type": "markdown",
   "metadata": {},
   "source": [
    "```{toctree}\n",
    ":hidden:\n",
    ":titlesonly:\n",
    "\n",
    "\n",
    "Performance analyze as of 06/01/2020 <../notebooks/analyze/Performance_06-01-2020>\n",
    "Risk Analyze 06/05/2020 <../notebooks/analyze/RISK_06-05-2020>\n",
    "```"
   ]
  }
 ],
 "metadata": {
  "jupytext": {
   "text_representation": {
    "extension": ".md",
    "format_name": "myst"
   }
  },
  "kernelspec": {
   "display_name": "Python 3",
   "language": "python",
   "name": "python3"
  },
  "language_info": {
   "codemirror_mode": {
    "name": "ipython",
    "version": 3
   },
   "file_extension": ".py",
   "mimetype": "text/x-python",
   "name": "python",
   "nbconvert_exporter": "python",
   "pygments_lexer": "ipython3",
   "version": "3.7.9"
  },
  "source_map": [
   10,
   19,
   41
  ]
 },
 "nbformat": 4,
 "nbformat_minor": 4
}