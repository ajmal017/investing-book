{
 "cells": [
  {
   "cell_type": "markdown",
   "metadata": {},
   "source": [
    "## Stock Purchases Thoughts\n",
    "\n",
    "**11/11/2020**\n",
    "\n",
    "MTRX loop insights - spiked to 0.50 - shouldn't have sold\n",
    "DCM - epic report good buy\n",
    "PKK - went down a bunch still a decent buy with a zack report at 3.8 USD - 5.0 CAD\n",
    "ART - down should be knee jerk reaction\n",
    "BEE - should recover with other pandemic stocks  looking promising 100% retention must have good product and good peope\n",
    "CGX - sold cause movie theatre - day trade\n",
    "\n",
    "**11/09/2020**\n",
    "\n",
    "MTRX loop insights video mentioning pfizer, why the heck did I sell it. Was this a good idea? probably not.\n",
    "\n",
    "Bought DCM - should be up 10x and peak should be up 10 x.\n",
    "\n",
    "Diversification - perhaps should have just spent more money instead.\n",
    "\n",
    "Split advice by year eventually\n",
    "**10/28/2020**\n",
    "\n",
    "Stock market crashing dont feel like selling\n",
    "\n",
    "CMC.CN - Needs to hit targets and shit the facilities built\n",
    "PKK.CN - main focus on china not covid center spot\n",
    "IDK.CN - nav of 0.41 usually stocks trade 2x nav and pkk.cn + mtrx doing well this year\n",
    "MTRX.CN - contact tracing, if adopted should do well\n",
    "ART.V - business does well in covid19\n",
    "\n",
    "Can trim some loop on the uptick 10k shares, same with cielo, 40k shares\n",
    "\n",
    "**10/23/2020**\n",
    "Peak to aphria\n",
    "\n",
    "shouldn't have fucking sold\n",
    "\n",
    "Peak still growing\n",
    "\n",
    "Pot not tech, can't grow fast\n",
    "aphria thoughts, if biden wins, harris pot decriminalization in america, temp surge, dump aphria, buy arht?\n",
    "\n",
    "**10/11/2020**\n",
    "\n",
    "Doubling down on peak as some guy in ceo.ca/pkk posted an article about china growing. They have control of the virus, it makes sense to invest in a country that is growing that is not in the state, espeically if they believe they are severely undervalued with high margins and the opportunity to give a dividend.\n",
    "\n",
    "In addition, sheldon has a position in pkk.\n",
    "\n",
    "Cielo seems to be doing well, if production numbers are 1000 L/h (pretty high), I would expect 100x return sometime in the future. After all, they have done the work to start growing like crazy as plastic production is projected to increase and there is no solution as good as cielo at the moment.\n",
    "\n",
    "**09/13/2020**\n",
    "KUU MIGHT BEINSOVLENT\n",
    "Wait on BYL for 5G\n",
    "\n",
    "Think about VIS.V if it makes 334,250 as projected in Q4\n",
    "\n",
    "The stocks I looked at recently that were interesting as of 09/15/2020\n",
    "\n",
    "| Ticker   | Long Name                       |\n",
    "| :---     | ---:                            |\n",
    "| PAI      | Predictiv AI Inc.               |\n",
    "| RW       | RenoWorks Software Inc          |\n",
    "| DFT      | Dimension Five Technologies Inc |\n",
    "| KUU      | Kuuhubb Inc                     |\n",
    "| BYL      | Baylin Technology Inc           |\n",
    "| CMC      | Cielo Waste Solutions Inc       |\n",
    "\n",
    "\n",
    "**09/08/2020**"
   ]
  },
  {
   "cell_type": "code",
   "execution_count": 1,
   "metadata": {},
   "outputs": [
    {
     "ename": "ValueError",
     "evalue": "time data '08-08-2020' does not match format '%Y-%m-%d'",
     "output_type": "error",
     "traceback": [
      "\u001b[0;31m---------------------------------------------------------------------------\u001b[0m",
      "\u001b[0;31mValueError\u001b[0m                                Traceback (most recent call last)",
      "\u001b[0;32m<ipython-input-1-af938bed8f3e>\u001b[0m in \u001b[0;36m<module>\u001b[0;34m\u001b[0m\n\u001b[1;32m      5\u001b[0m \u001b[0;34m\u001b[0m\u001b[0m\n\u001b[1;32m      6\u001b[0m \u001b[0mvst\u001b[0m \u001b[0;34m=\u001b[0m \u001b[0myf\u001b[0m\u001b[0;34m.\u001b[0m\u001b[0mTicker\u001b[0m\u001b[0;34m(\u001b[0m\u001b[0;34m\"VST.CN\"\u001b[0m\u001b[0;34m)\u001b[0m\u001b[0;34m\u001b[0m\u001b[0;34m\u001b[0m\u001b[0m\n\u001b[0;32m----> 7\u001b[0;31m \u001b[0mdata\u001b[0m \u001b[0;34m=\u001b[0m \u001b[0mvst\u001b[0m\u001b[0;34m.\u001b[0m\u001b[0mhistory\u001b[0m\u001b[0;34m(\u001b[0m\u001b[0minterval\u001b[0m\u001b[0;34m=\u001b[0m\u001b[0;34m\"1d\"\u001b[0m\u001b[0;34m,\u001b[0m \u001b[0mstart\u001b[0m\u001b[0;34m=\u001b[0m\u001b[0;34m\"08-08-2020\"\u001b[0m\u001b[0;34m,\u001b[0m \u001b[0mend\u001b[0m\u001b[0;34m=\u001b[0m\u001b[0;34m\"09-08-2020\"\u001b[0m\u001b[0;34m)\u001b[0m\u001b[0;34m\u001b[0m\u001b[0;34m\u001b[0m\u001b[0m\n\u001b[0m\u001b[1;32m      8\u001b[0m mpf.plot(\n\u001b[1;32m      9\u001b[0m     \u001b[0mdata\u001b[0m\u001b[0;34m,\u001b[0m\u001b[0;34m\u001b[0m\u001b[0;34m\u001b[0m\u001b[0m\n",
      "\u001b[0;32m/usr/share/miniconda3/envs/investing_book/lib/python3.7/site-packages/yfinance/base.py\u001b[0m in \u001b[0;36mhistory\u001b[0;34m(self, period, interval, start, end, prepost, actions, auto_adjust, back_adjust, proxy, rounding, tz, **kwargs)\u001b[0m\n\u001b[1;32m    120\u001b[0m             \u001b[0;32melse\u001b[0m\u001b[0;34m:\u001b[0m\u001b[0;34m\u001b[0m\u001b[0;34m\u001b[0m\u001b[0m\n\u001b[1;32m    121\u001b[0m                 start = int(_time.mktime(\n\u001b[0;32m--> 122\u001b[0;31m                     _time.strptime(str(start), '%Y-%m-%d')))\n\u001b[0m\u001b[1;32m    123\u001b[0m             \u001b[0;32mif\u001b[0m \u001b[0mend\u001b[0m \u001b[0;32mis\u001b[0m \u001b[0;32mNone\u001b[0m\u001b[0;34m:\u001b[0m\u001b[0;34m\u001b[0m\u001b[0;34m\u001b[0m\u001b[0m\n\u001b[1;32m    124\u001b[0m                 \u001b[0mend\u001b[0m \u001b[0;34m=\u001b[0m \u001b[0mint\u001b[0m\u001b[0;34m(\u001b[0m\u001b[0m_time\u001b[0m\u001b[0;34m.\u001b[0m\u001b[0mtime\u001b[0m\u001b[0;34m(\u001b[0m\u001b[0;34m)\u001b[0m\u001b[0;34m)\u001b[0m\u001b[0;34m\u001b[0m\u001b[0;34m\u001b[0m\u001b[0m\n",
      "\u001b[0;32m/usr/share/miniconda3/envs/investing_book/lib/python3.7/_strptime.py\u001b[0m in \u001b[0;36m_strptime_time\u001b[0;34m(data_string, format)\u001b[0m\n\u001b[1;32m    569\u001b[0m     \"\"\"Return a time struct based on the input string and the\n\u001b[1;32m    570\u001b[0m     format string.\"\"\"\n\u001b[0;32m--> 571\u001b[0;31m     \u001b[0mtt\u001b[0m \u001b[0;34m=\u001b[0m \u001b[0m_strptime\u001b[0m\u001b[0;34m(\u001b[0m\u001b[0mdata_string\u001b[0m\u001b[0;34m,\u001b[0m \u001b[0mformat\u001b[0m\u001b[0;34m)\u001b[0m\u001b[0;34m[\u001b[0m\u001b[0;36m0\u001b[0m\u001b[0;34m]\u001b[0m\u001b[0;34m\u001b[0m\u001b[0;34m\u001b[0m\u001b[0m\n\u001b[0m\u001b[1;32m    572\u001b[0m     \u001b[0;32mreturn\u001b[0m \u001b[0mtime\u001b[0m\u001b[0;34m.\u001b[0m\u001b[0mstruct_time\u001b[0m\u001b[0;34m(\u001b[0m\u001b[0mtt\u001b[0m\u001b[0;34m[\u001b[0m\u001b[0;34m:\u001b[0m\u001b[0mtime\u001b[0m\u001b[0;34m.\u001b[0m\u001b[0m_STRUCT_TM_ITEMS\u001b[0m\u001b[0;34m]\u001b[0m\u001b[0;34m)\u001b[0m\u001b[0;34m\u001b[0m\u001b[0;34m\u001b[0m\u001b[0m\n\u001b[1;32m    573\u001b[0m \u001b[0;34m\u001b[0m\u001b[0m\n",
      "\u001b[0;32m/usr/share/miniconda3/envs/investing_book/lib/python3.7/_strptime.py\u001b[0m in \u001b[0;36m_strptime\u001b[0;34m(data_string, format)\u001b[0m\n\u001b[1;32m    357\u001b[0m     \u001b[0;32mif\u001b[0m \u001b[0;32mnot\u001b[0m \u001b[0mfound\u001b[0m\u001b[0;34m:\u001b[0m\u001b[0;34m\u001b[0m\u001b[0;34m\u001b[0m\u001b[0m\n\u001b[1;32m    358\u001b[0m         raise ValueError(\"time data %r does not match format %r\" %\n\u001b[0;32m--> 359\u001b[0;31m                          (data_string, format))\n\u001b[0m\u001b[1;32m    360\u001b[0m     \u001b[0;32mif\u001b[0m \u001b[0mlen\u001b[0m\u001b[0;34m(\u001b[0m\u001b[0mdata_string\u001b[0m\u001b[0;34m)\u001b[0m \u001b[0;34m!=\u001b[0m \u001b[0mfound\u001b[0m\u001b[0;34m.\u001b[0m\u001b[0mend\u001b[0m\u001b[0;34m(\u001b[0m\u001b[0;34m)\u001b[0m\u001b[0;34m:\u001b[0m\u001b[0;34m\u001b[0m\u001b[0;34m\u001b[0m\u001b[0m\n\u001b[1;32m    361\u001b[0m         raise ValueError(\"unconverted data remains: %s\" %\n",
      "\u001b[0;31mValueError\u001b[0m: time data '08-08-2020' does not match format '%Y-%m-%d'"
     ]
    }
   ],
   "source": [
    "import yfinance as yf\n",
    "import matplotlib.pyplot as plt\n",
    "import matplotlib.dates as mdates\n",
    "import mplfinance as mpf\n",
    "\n",
    "vst = yf.Ticker(\"VST.CN\")\n",
    "data = vst.history(interval=\"1d\", start=\"08-08-2020\", end=\"09-08-2020\")\n",
    "mpf.plot(\n",
    "    data,\n",
    "    type=\"candle\",\n",
    "    mav=4,\n",
    "    title=\"Victory Square Purchases Dates\",\n",
    "    vlines=dict(\n",
    "        vlines=[\"2020-08-26\", \"2020-09-03\", \"2020-09-08\"], linewidths=(0.5, 0.5, 0.5)\n",
    "    ),\n",
    ")"
   ]
  },
  {
   "cell_type": "markdown",
   "metadata": {},
   "source": [
    "The first few purchases on August 26 and September 03 were profitable, after the failed Sept 08 purchases and surprise drop I emailed the investor relations guy asking about india approval.\n",
    "\n",
    "My brief calculations of the covid-19 test selling well make me think if they sell well (80 \\%), the stock will continue the rise.\n",
    "\n",
    "The combination of covid-19 increasing, the need to know if you were previously infected for health care workers perhaps even vaccines, make me think that the stock will go up in the short term in the next few months.\n",
    "\n",
    "\n",
    "\n",
    "\n",
    "\n",
    "### Cloud Architecture V0\n",
    "\n",
    "Make this seperate chapter \n",
    "\n",
    "\n",
    "As for sept 28 2020\n",
    "\n",
    "```{figure} /_static/diagrams/v0stockarch.png\n",
    "```\n",
    "\n",
    "my basic cloud archtecture was based on gcp. Primarily using google cloud build for automated deployed and the various serverless compute options. Aimed to stay within free tier but sometimes I paid cash for this (TODO make a blog post about my stocks hosting stuff)."
   ]
  }
 ],
 "metadata": {
  "jupytext": {
   "text_representation": {
    "extension": ".md",
    "format_name": "myst"
   }
  },
  "kernelspec": {
   "display_name": "Python 3",
   "language": "python",
   "name": "python3"
  },
  "language_info": {
   "codemirror_mode": {
    "name": "ipython",
    "version": 3
   },
   "file_extension": ".py",
   "mimetype": "text/x-python",
   "name": "python",
   "nbconvert_exporter": "python",
   "pygments_lexer": "ipython3",
   "version": "3.7.9"
  },
  "source_map": [
   10,
   81,
   98
  ]
 },
 "nbformat": 4,
 "nbformat_minor": 4
}